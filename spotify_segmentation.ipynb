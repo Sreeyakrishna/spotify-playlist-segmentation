{
  "nbformat": 4,
  "nbformat_minor": 0,
  "metadata": {
    "colab": {
      "provenance": [],
      "authorship_tag": "ABX9TyO7BCoXwecniL3IVa1o8WTI",
      "include_colab_link": true
    },
    "kernelspec": {
      "name": "python3",
      "display_name": "Python 3"
    },
    "language_info": {
      "name": "python"
    }
  },
  "cells": [
    {
      "cell_type": "markdown",
      "metadata": {
        "id": "view-in-github",
        "colab_type": "text"
      },
      "source": [
        "<a href=\"https://colab.research.google.com/github/Sreeyakrishna/spotify-playlist-segmentation/blob/main/spotify_segmentation.ipynb\" target=\"_parent\"><img src=\"https://colab.research.google.com/assets/colab-badge.svg\" alt=\"Open In Colab\"/></a>"
      ]
    },
    {
      "cell_type": "code",
      "execution_count": 1,
      "metadata": {
        "colab": {
          "base_uri": "https://localhost:8080/",
          "height": 90
        },
        "id": "Q-sgshT2x8ot",
        "outputId": "e29d8829-7781-4780-a8f8-b9ec02228f93"
      },
      "outputs": [
        {
          "output_type": "display_data",
          "data": {
            "text/plain": [
              "<IPython.core.display.HTML object>"
            ],
            "text/html": [
              "\n",
              "     <input type=\"file\" id=\"files-11da5507-27d6-484a-a004-9e33a7140c4c\" name=\"files[]\" multiple disabled\n",
              "        style=\"border:none\" />\n",
              "     <output id=\"result-11da5507-27d6-484a-a004-9e33a7140c4c\">\n",
              "      Upload widget is only available when the cell has been executed in the\n",
              "      current browser session. Please rerun this cell to enable.\n",
              "      </output>\n",
              "      <script>// Copyright 2017 Google LLC\n",
              "//\n",
              "// Licensed under the Apache License, Version 2.0 (the \"License\");\n",
              "// you may not use this file except in compliance with the License.\n",
              "// You may obtain a copy of the License at\n",
              "//\n",
              "//      http://www.apache.org/licenses/LICENSE-2.0\n",
              "//\n",
              "// Unless required by applicable law or agreed to in writing, software\n",
              "// distributed under the License is distributed on an \"AS IS\" BASIS,\n",
              "// WITHOUT WARRANTIES OR CONDITIONS OF ANY KIND, either express or implied.\n",
              "// See the License for the specific language governing permissions and\n",
              "// limitations under the License.\n",
              "\n",
              "/**\n",
              " * @fileoverview Helpers for google.colab Python module.\n",
              " */\n",
              "(function(scope) {\n",
              "function span(text, styleAttributes = {}) {\n",
              "  const element = document.createElement('span');\n",
              "  element.textContent = text;\n",
              "  for (const key of Object.keys(styleAttributes)) {\n",
              "    element.style[key] = styleAttributes[key];\n",
              "  }\n",
              "  return element;\n",
              "}\n",
              "\n",
              "// Max number of bytes which will be uploaded at a time.\n",
              "const MAX_PAYLOAD_SIZE = 100 * 1024;\n",
              "\n",
              "function _uploadFiles(inputId, outputId) {\n",
              "  const steps = uploadFilesStep(inputId, outputId);\n",
              "  const outputElement = document.getElementById(outputId);\n",
              "  // Cache steps on the outputElement to make it available for the next call\n",
              "  // to uploadFilesContinue from Python.\n",
              "  outputElement.steps = steps;\n",
              "\n",
              "  return _uploadFilesContinue(outputId);\n",
              "}\n",
              "\n",
              "// This is roughly an async generator (not supported in the browser yet),\n",
              "// where there are multiple asynchronous steps and the Python side is going\n",
              "// to poll for completion of each step.\n",
              "// This uses a Promise to block the python side on completion of each step,\n",
              "// then passes the result of the previous step as the input to the next step.\n",
              "function _uploadFilesContinue(outputId) {\n",
              "  const outputElement = document.getElementById(outputId);\n",
              "  const steps = outputElement.steps;\n",
              "\n",
              "  const next = steps.next(outputElement.lastPromiseValue);\n",
              "  return Promise.resolve(next.value.promise).then((value) => {\n",
              "    // Cache the last promise value to make it available to the next\n",
              "    // step of the generator.\n",
              "    outputElement.lastPromiseValue = value;\n",
              "    return next.value.response;\n",
              "  });\n",
              "}\n",
              "\n",
              "/**\n",
              " * Generator function which is called between each async step of the upload\n",
              " * process.\n",
              " * @param {string} inputId Element ID of the input file picker element.\n",
              " * @param {string} outputId Element ID of the output display.\n",
              " * @return {!Iterable<!Object>} Iterable of next steps.\n",
              " */\n",
              "function* uploadFilesStep(inputId, outputId) {\n",
              "  const inputElement = document.getElementById(inputId);\n",
              "  inputElement.disabled = false;\n",
              "\n",
              "  const outputElement = document.getElementById(outputId);\n",
              "  outputElement.innerHTML = '';\n",
              "\n",
              "  const pickedPromise = new Promise((resolve) => {\n",
              "    inputElement.addEventListener('change', (e) => {\n",
              "      resolve(e.target.files);\n",
              "    });\n",
              "  });\n",
              "\n",
              "  const cancel = document.createElement('button');\n",
              "  inputElement.parentElement.appendChild(cancel);\n",
              "  cancel.textContent = 'Cancel upload';\n",
              "  const cancelPromise = new Promise((resolve) => {\n",
              "    cancel.onclick = () => {\n",
              "      resolve(null);\n",
              "    };\n",
              "  });\n",
              "\n",
              "  // Wait for the user to pick the files.\n",
              "  const files = yield {\n",
              "    promise: Promise.race([pickedPromise, cancelPromise]),\n",
              "    response: {\n",
              "      action: 'starting',\n",
              "    }\n",
              "  };\n",
              "\n",
              "  cancel.remove();\n",
              "\n",
              "  // Disable the input element since further picks are not allowed.\n",
              "  inputElement.disabled = true;\n",
              "\n",
              "  if (!files) {\n",
              "    return {\n",
              "      response: {\n",
              "        action: 'complete',\n",
              "      }\n",
              "    };\n",
              "  }\n",
              "\n",
              "  for (const file of files) {\n",
              "    const li = document.createElement('li');\n",
              "    li.append(span(file.name, {fontWeight: 'bold'}));\n",
              "    li.append(span(\n",
              "        `(${file.type || 'n/a'}) - ${file.size} bytes, ` +\n",
              "        `last modified: ${\n",
              "            file.lastModifiedDate ? file.lastModifiedDate.toLocaleDateString() :\n",
              "                                    'n/a'} - `));\n",
              "    const percent = span('0% done');\n",
              "    li.appendChild(percent);\n",
              "\n",
              "    outputElement.appendChild(li);\n",
              "\n",
              "    const fileDataPromise = new Promise((resolve) => {\n",
              "      const reader = new FileReader();\n",
              "      reader.onload = (e) => {\n",
              "        resolve(e.target.result);\n",
              "      };\n",
              "      reader.readAsArrayBuffer(file);\n",
              "    });\n",
              "    // Wait for the data to be ready.\n",
              "    let fileData = yield {\n",
              "      promise: fileDataPromise,\n",
              "      response: {\n",
              "        action: 'continue',\n",
              "      }\n",
              "    };\n",
              "\n",
              "    // Use a chunked sending to avoid message size limits. See b/62115660.\n",
              "    let position = 0;\n",
              "    do {\n",
              "      const length = Math.min(fileData.byteLength - position, MAX_PAYLOAD_SIZE);\n",
              "      const chunk = new Uint8Array(fileData, position, length);\n",
              "      position += length;\n",
              "\n",
              "      const base64 = btoa(String.fromCharCode.apply(null, chunk));\n",
              "      yield {\n",
              "        response: {\n",
              "          action: 'append',\n",
              "          file: file.name,\n",
              "          data: base64,\n",
              "        },\n",
              "      };\n",
              "\n",
              "      let percentDone = fileData.byteLength === 0 ?\n",
              "          100 :\n",
              "          Math.round((position / fileData.byteLength) * 100);\n",
              "      percent.textContent = `${percentDone}% done`;\n",
              "\n",
              "    } while (position < fileData.byteLength);\n",
              "  }\n",
              "\n",
              "  // All done.\n",
              "  yield {\n",
              "    response: {\n",
              "      action: 'complete',\n",
              "    }\n",
              "  };\n",
              "}\n",
              "\n",
              "scope.google = scope.google || {};\n",
              "scope.google.colab = scope.google.colab || {};\n",
              "scope.google.colab._files = {\n",
              "  _uploadFiles,\n",
              "  _uploadFilesContinue,\n",
              "};\n",
              "})(self);\n",
              "</script> "
            ]
          },
          "metadata": {}
        },
        {
          "output_type": "stream",
          "name": "stdout",
          "text": [
            "Saving Project 2  - Spotify Songs’ Genre Segmentation (1) (1) (1).zip to Project 2  - Spotify Songs’ Genre Segmentation (1) (1) (1).zip\n",
            "Shape after cleaning: (32828, 9)\n"
          ]
        }
      ],
      "source": [
        "#  Data Loading & Cleaning\n",
        "\n",
        "import pandas as pd\n",
        "import numpy as np\n",
        "import zipfile\n",
        "from google.colab import files\n",
        "\n",
        "# Author: PT Sreeyakrishna\n",
        "\n",
        "uploaded = files.upload()\n",
        "\n",
        "with zipfile.ZipFile(\"Project 2  - Spotify Songs’ Genre Segmentation (1) (1) (1).zip\", 'r') as zip_ref:\n",
        "    zip_ref.extractall(\".\")\n",
        "\n",
        "# Load dataset (adjust filename if different)\n",
        "df = pd.read_csv(\"spotify dataset.csv\")\n",
        "\n",
        "# Drop duplicates and missing values\n",
        "df.drop_duplicates(inplace=True)\n",
        "df.dropna(inplace=True)\n",
        "\n",
        "# Select relevant features\n",
        "features = df[['danceability', 'energy', 'loudness', 'speechiness',\n",
        "               'acousticness', 'instrumentalness', 'liveness', 'valence', 'tempo']]\n",
        "\n",
        "print(\"Shape after cleaning:\", features.shape)\n"
      ]
    },
    {
      "cell_type": "code",
      "source": [
        "# Building Similarity Matrix\n",
        "\n",
        "from sklearn.metrics.pairwise import cosine_similarity\n",
        "\n",
        "# Compute similarity matrix\n",
        "similarity_matrix = cosine_similarity(features)\n",
        "\n",
        "print(\"Similarity Matrix Shape:\", similarity_matrix.shape)\n"
      ],
      "metadata": {
        "colab": {
          "base_uri": "https://localhost:8080/"
        },
        "id": "yq4QzOJXyR9W",
        "outputId": "e763c89b-d96d-489c-9df6-cd303718d736"
      },
      "execution_count": 2,
      "outputs": [
        {
          "output_type": "stream",
          "name": "stdout",
          "text": [
            "Similarity Matrix Shape: (32828, 32828)\n"
          ]
        }
      ]
    },
    {
      "cell_type": "code",
      "source": [
        "# User Collaborative Filtering\n",
        "\n",
        "import numpy as np\n",
        "\n",
        "# Example: Function to get top-N similar songs\n",
        "def get_similar_songs(song_index, top_n=5):\n",
        "    # Get similarity scores for given song\n",
        "    sim_scores = list(enumerate(similarity_matrix[song_index]))\n",
        "    # Sort by similarity\n",
        "    sim_scores = sorted(sim_scores, key=lambda x: x[1], reverse=True)\n",
        "    # Skip first (self match) and take top_n\n",
        "    top_similar = sim_scores[1:top_n+1]\n",
        "    return [(df.iloc[i]['track_name'], df.iloc[i]['track_artist'], score) for i, score in top_similar]\n",
        "\n",
        "# Example usage:\n",
        "print(\"Similar Songs to first track:\")\n",
        "print(get_similar_songs(0, top_n=5))"
      ],
      "metadata": {
        "colab": {
          "base_uri": "https://localhost:8080/"
        },
        "id": "2G689qLKyVQR",
        "outputId": "fdab6bdd-5447-4177-bc11-28d15841dffc"
      },
      "execution_count": 8,
      "outputs": [
        {
          "output_type": "stream",
          "name": "stdout",
          "text": [
            "Similar Songs to first track:\n",
            "[(\"I Don't Care (with Justin Bieber) - Loud Luxury Remix\", 'Ed Sheeran', np.float64(1.0000000000000002)), (\"As If It's Your Last\", 'BLACKPINK', np.float64(0.9999994827387733)), ('Rise - TV Noise Ibiza Mix', 'Jonas Blue', np.float64(0.9999993772181303)), ('Love With Your Life (Capital Kings Remix)', 'Hollyn', np.float64(0.9999993335392866)), ('You and I', 'Wahlstedt', np.float64(0.9999990836667413))]\n"
          ]
        }
      ]
    },
    {
      "cell_type": "code",
      "source": [
        "# Hybrid Model (KMeans + Similarity)\n",
        "\n",
        "from sklearn.cluster import KMeans\n",
        "\n",
        "# Apply clustering\n",
        "kmeans = KMeans(n_clusters=5, random_state=42, n_init=10) # Added n_init for robustness\n",
        "df['Cluster'] = kmeans.fit_predict(features)\n",
        "\n",
        "# Create a mapping from original df index to features index\n",
        "index_mapping = {original_index: new_index for new_index, original_index in enumerate(features.index)}\n",
        "\n",
        "# Hybrid Recommendation Function\n",
        "def hybrid_recommend(song_index, top_n=5):\n",
        "    cluster_id = df.iloc[song_index]['Cluster']\n",
        "    cluster_songs_original_indices = df[df['Cluster'] == cluster_id].index.tolist()\n",
        "\n",
        "    # Filter out indices that are not in the features DataFrame and map to new indices\n",
        "    cluster_songs_features_indices = [\n",
        "        index_mapping[i] for i in cluster_songs_original_indices\n",
        "        if i in index_mapping and i != song_index # Ensure the song itself is not included\n",
        "    ]\n",
        "\n",
        "    # Get similarity scores for songs in the cluster\n",
        "    sim_scores = [(original_index, similarity_matrix[index_mapping[song_index]][index_mapping[original_index]])\n",
        "                  for original_index in cluster_songs_original_indices\n",
        "                  if original_index in index_mapping and original_index != song_index] # Ensure the song itself is not included\n",
        "\n",
        "    sim_scores = sorted(sim_scores, key=lambda x: x[1], reverse=True)[:top_n]\n",
        "    return [(df.iloc[i]['track_name'], score) for i, score in sim_scores]\n",
        "\n",
        "# Example usage:\n",
        "print(\"Hybrid Recommendations for first track:\")\n",
        "print(hybrid_recommend(0, top_n=5))"
      ],
      "metadata": {
        "colab": {
          "base_uri": "https://localhost:8080/"
        },
        "id": "P1rYDJRtyaQW",
        "outputId": "dec86b2a-9d98-4a95-8a27-0253abd751d7"
      },
      "execution_count": 6,
      "outputs": [
        {
          "output_type": "stream",
          "name": "stdout",
          "text": [
            "Hybrid Recommendations for first track:\n",
            "[('Tequila - Robin Schulz Remix', np.float64(1.0000000000000002)), (\"As If It's Your Last\", np.float64(0.9999994827387733)), ('Sick Boy - Owen Norton Remix', np.float64(0.9999993772181303)), ('I Feel so Alive', np.float64(0.9999993335392866)), ('Made For You', np.float64(0.9999990836667413))]\n"
          ]
        }
      ]
    },
    {
      "cell_type": "code",
      "source": [
        "# --- Visualization (Table + Chart) ---\n",
        "\n",
        "import matplotlib.pyplot as plt\n",
        "import seaborn as sns\n",
        "\n",
        "# Pick a sample song\n",
        "sample_song_index = 10  # change index to test different songs\n",
        "similar_songs = get_similar_songs(sample_song_index, top_n=5)\n",
        "\n",
        "# Convert to DataFrame for table view\n",
        "results_df = pd.DataFrame(similar_songs, columns=[\"Track Name\", \"Artist\", \"Similarity Score\"])\n",
        "print(\"🔹 Top 5 Similar Songs to:\", df.iloc[sample_song_index]['track_name'], \"by\", df.iloc[sample_song_index]['track_artist'])\n",
        "print(results_df)\n",
        "\n",
        "# --- Bar Chart Visualization ---\n",
        "plt.figure(figsize=(8,5))\n",
        "sns.barplot(data=results_df, x=\"Similarity Score\", y=\"Track Name\", palette=\"viridis\")\n",
        "plt.title(f\"Top 5 Songs Similar to '{df.iloc[sample_song_index]['track_name']}'\", fontsize=14)\n",
        "plt.xlabel(\"Similarity Score\")\n",
        "plt.ylabel(\"Track Name\")\n",
        "plt.show()"
      ],
      "metadata": {
        "colab": {
          "base_uri": "https://localhost:8080/",
          "height": 838
        },
        "id": "ziHax2x8z_w2",
        "outputId": "5e1b5763-54c8-4532-8cc2-4df3b9a3fd4b"
      },
      "execution_count": 11,
      "outputs": [
        {
          "output_type": "stream",
          "name": "stdout",
          "text": [
            "🔹 Top 5 Similar Songs to: Cross Me (feat. Chance the Rapper & PnB Rock) - M-22 Remix by Ed Sheeran\n",
            "                                          Track Name          Artist  \\\n",
            "0  Music Has the Power - Wolfgang Lohr Remix Radi...        !deladap   \n",
            "1  Music Has the Power - Wolfgang Lohr Remix Radi...        !deladap   \n",
            "2                                              Sunny        Boney M.   \n",
            "3                                            Because         オメガトライブ   \n",
            "4                             1-2-3 - Single Version  Gloria Estefan   \n",
            "\n",
            "   Similarity Score  \n",
            "0          0.999999  \n",
            "1          0.999999  \n",
            "2          0.999999  \n",
            "3          0.999999  \n",
            "4          0.999998  \n"
          ]
        },
        {
          "output_type": "stream",
          "name": "stderr",
          "text": [
            "/tmp/ipython-input-1548527630.py:17: FutureWarning: \n",
            "\n",
            "Passing `palette` without assigning `hue` is deprecated and will be removed in v0.14.0. Assign the `y` variable to `hue` and set `legend=False` for the same effect.\n",
            "\n",
            "  sns.barplot(data=results_df, x=\"Similarity Score\", y=\"Track Name\", palette=\"viridis\")\n"
          ]
        },
        {
          "output_type": "display_data",
          "data": {
            "text/plain": [
              "<Figure size 800x500 with 1 Axes>"
            ],
            "image/png": "[encoded data removed]"
          },
          "metadata": {}
        }
      ]
    }
  ]
}